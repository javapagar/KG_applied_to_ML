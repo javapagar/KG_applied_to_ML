{
  "nbformat": 4,
  "nbformat_minor": 0,
  "metadata": {
    "colab": {
      "name": "CNN.pynb",
      "provenance": [],
      "mount_file_id": "https://github.com/javapagar/KG_applied_to_ML/blob/main/notebooks/cnn/cnn.ipynb",
      "authorship_tag": "ABX9TyMNEyTGXzMq4KGdyZJ3ltwQ"
    },
    "kernelspec": {
      "name": "python3",
      "display_name": "Python 3"
    },
    "language_info": {
      "name": "python"
    },
    "accelerator": "GPU"
  },
  "cells": [
    {
      "cell_type": "code",
      "execution_count": 1,
      "metadata": {
        "id": "-_jotgRwPJ66"
      },
      "outputs": [],
      "source": [
        "import numpy as np\n",
        "import os\n",
        "import pickle\n",
        "\n",
        "from keras.preprocessing.image import load_img,img_to_array\n",
        "from keras.utils import layer_utils, np_utils"
      ]
    },
    {
      "cell_type": "code",
      "source": [
        "IMG_HEIGHT = 256\n",
        "IMG_WIDTH = 256\n",
        "PATH_DRIVE = \"/content/drive/MyDrive/TFG-IA/notebooks/grapes images\"\n",
        "def load_image_from_path(path):\n",
        "  x = []\n",
        "  y = []\n",
        "\n",
        "  images_folders = os.listdir(path)\n",
        "\n",
        "  for folder in images_folders:\n",
        "    print(folder)\n",
        "    images_files_path = os.path.join(path,folder)\n",
        "    images_file_names = os.listdir(images_files_path)\n",
        "\n",
        "    for image_file in images_file_names:\n",
        "      complete_path = os.path.join(images_files_path,image_file)\n",
        "      images =load_img(complete_path, target_size=(IMG_HEIGHT,IMG_WIDTH))\n",
        "      x.append(img_to_array(images))\n",
        "      y.append(folder)\n",
        "\n",
        "  return np.array(x),y\n",
        "\n",
        "def load_save_image(path_train,path_test):\n",
        "  x_train, y_train = load_image_from_path(path_train)\n",
        "  path = os.path.join(PATH_DRIVE,\"x_train.pkl\")\n",
        "  save_pickle(x_train,path)\n",
        "  del x_train\n",
        "  path = os.path.join(PATH_DRIVE,\"y_train_orig.pkl\")\n",
        "  save_pickle(y_train,path)\n",
        "  del y_train\n",
        "  x_test,y_test =load_image_from_path(path_test)\n",
        "  path = os.path.join(PATH_DRIVE,\"x_test.pkl\")\n",
        "  save_pickle(x_test,path)\n",
        "  del x_test\n",
        "  path = os.path.join(PATH_DRIVE,\"y_test_orig.pkl\")\n",
        "  save_pickle(y_test,path)\n",
        "  del y_test\n",
        "\n",
        "\n",
        "def encode_by_list(label_list, to_encode_list):\n",
        "  encode_list =[label_list.index(item) for item in to_encode_list]\n",
        "  return np_utils.to_categorical(encode_list,len(label_list))\n",
        "\n",
        "def save_pickle(object,path):\n",
        "  pickle.dump(object,open(path,'w'), protocol=4)\n",
        "\n",
        "def load_pickle(path):\n",
        "  result=pickle.load(open(path,'rb'))\n",
        "  return result\n"
      ],
      "metadata": {
        "id": "bgtcRhtzT77L"
      },
      "execution_count": 4,
      "outputs": []
    },
    {
      "cell_type": "code",
      "source": [
        "load_save_image(\"/content/drive/MyDrive/TFG-IA/notebooks/grapes images/train\",\"/content/drive/MyDrive/TFG-IA/notebooks/grapes images/validation\")"
      ],
      "metadata": {
        "id": "vDhlfJL_dYZ1",
        "outputId": "79efd582-8e2e-4e08-d65d-55962d0bd111",
        "colab": {
          "base_uri": "https://localhost:8080/"
        }
      },
      "execution_count": null,
      "outputs": [
        {
          "output_type": "stream",
          "name": "stdout",
          "text": [
            "Grape___Esca_(Black_Measles)\n",
            "Grape___Leaf_blight_(Isariopsis_Leaf_Spot)\n",
            "Grape___Black_rot\n",
            "Grape___healthy\n"
          ]
        }
      ]
    },
    {
      "cell_type": "code",
      "source": [
        "x_train = load_pickle(\"y_train_orig\")\n",
        "x_train[0]"
      ],
      "metadata": {
        "id": "aeRWPGYMq_Zg",
        "outputId": "3fe0585d-c40d-4655-deff-60012ebaa69a",
        "colab": {
          "base_uri": "https://localhost:8080/",
          "height": 36
        }
      },
      "execution_count": 9,
      "outputs": [
        {
          "output_type": "execute_result",
          "data": {
            "application/vnd.google.colaboratory.intrinsic+json": {
              "type": "string"
            },
            "text/plain": [
              "'Grape___Esca_(Black_Measles)'"
            ]
          },
          "metadata": {},
          "execution_count": 9
        }
      ]
    },
    {
      "cell_type": "code",
      "source": [
        "labels = list(set(y_test))\n",
        "result = encode_by_list(labels,y_test)\n",
        "y_test[0],result[0]\n"
      ],
      "metadata": {
        "id": "TXFCuSrMjRql",
        "outputId": "d4ab0a07-bd17-457c-f7f6-c00a378d3881",
        "colab": {
          "base_uri": "https://localhost:8080/"
        }
      },
      "execution_count": 25,
      "outputs": [
        {
          "output_type": "execute_result",
          "data": {
            "text/plain": [
              "('Grape___healthy', array([0., 0., 0., 1.], dtype=float32))"
            ]
          },
          "metadata": {},
          "execution_count": 25
        }
      ]
    }
  ]
}