{
  "nbformat": 4,
  "nbformat_minor": 0,
  "metadata": {
    "colab": {
      "name": "CNN.pynb",
      "provenance": [],
      "authorship_tag": "ABX9TyMn3OAmvVthKX264sMZFfZp"
    },
    "kernelspec": {
      "name": "python3",
      "display_name": "Python 3"
    },
    "language_info": {
      "name": "python"
    },
    "accelerator": "GPU"
  },
  "cells": [
    {
      "cell_type": "code",
      "execution_count": 3,
      "metadata": {
        "id": "-_jotgRwPJ66"
      },
      "outputs": [],
      "source": [
        "import numpy as np\n",
        "import os\n",
        "\n",
        "from keras.preprocessing.image import load_img,img_to_array"
      ]
    },
    {
      "cell_type": "code",
      "source": [
        "IMG_HEIGHT = 256\n",
        "IMG_WIDTH = 256\n",
        "\n",
        "def load_image_from_path(path):\n",
        "  x = []\n",
        "  y = []\n",
        "\n",
        "  images_folders = os.listdir(path)\n",
        "\n",
        "  for folder in images_folders:\n",
        "    print(folder)\n",
        "    images_files_path = os.path.join(path,folder)\n",
        "    images_file_names = os.listdir(images_files_path)\n",
        "\n",
        "    for image_file in images_file_names:\n",
        "      complete_path = os.path.join(images_files_path,image_file)\n",
        "      images =load_img(complete_path, target_size=(IMG_HEIGHT,IMG_WIDTH))\n",
        "      x.append(img_to_array(images))\n",
        "      y.append(images_folders.index(folder))\n",
        "\n",
        "  return np.array(x),np.array(y)\n",
        "\n",
        "def load_image(path_train,path_test):\n",
        "  x_train, y_train = load_image_from_path(path_train)\n",
        "  x_test,y_test =load_image_from_path(path_test)\n",
        "\n",
        "  return x_train,y_train,x_test,y_test\n"
      ],
      "metadata": {
        "id": "bgtcRhtzT77L"
      },
      "execution_count": 4,
      "outputs": []
    },
    {
      "cell_type": "code",
      "source": [
        ""
      ],
      "metadata": {
        "id": "vDhlfJL_dYZ1"
      },
      "execution_count": null,
      "outputs": []
    }
  ]
}