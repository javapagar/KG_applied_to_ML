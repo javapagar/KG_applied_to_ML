{
  "nbformat": 4,
  "nbformat_minor": 0,
  "metadata": {
    "orig_nbformat": 4,
    "colab": {
      "name": "nlp.ipynb",
      "provenance": [],
      "toc_visible": true
    },
    "language_info": {
      "name": "python"
    },
    "kernelspec": {
      "name": "python3",
      "display_name": "Python 3"
    }
  },
  "cells": [
    {
      "cell_type": "markdown",
      "metadata": {
        "id": "fiviZWkCkwTb"
      },
      "source": [
        "# Natural language processing wit spacy\n",
        "\n",
        "Gracias al procesamiento del lenguaje natural (PLN), voy a extraer a partir de un texto triple (sujeto, objeto, relación) para identificar tanto los nodos como las relaciones que incluirá el grafo de conocimineto."
      ]
    },
    {
      "cell_type": "markdown",
      "metadata": {
        "id": "H7M-YlaZlA9j"
      },
      "source": [
        "## Librerias\n",
        "\n",
        "Existen diferentes librerías en Python para PLN, entre las más conocidas estan NLTK y spaCy. Para este trabajo se usará spaCy (https://spacy.io/), la última versión que hay a 7 de diciembre de 2021."
      ]
    },
    {
      "cell_type": "code",
      "metadata": {
        "id": "vo-O9ydqlO2F"
      },
      "source": [
        "!pip install -U pip setuptools wheel\n",
        "!pip install -U spacy\n"
      ],
      "execution_count": 2,
      "outputs": []
    },
    {
      "cell_type": "code",
      "metadata": {
        "id": "lrMEvWoal0BJ",
        "colab": {
          "base_uri": "https://localhost:8080/"
        },
        "outputId": "84e112be-7367-48c7-8975-578b752114ee"
      },
      "source": [
        "import spacy\n",
        "python -m spacy download en_core_web_sm\n",
        "\n",
        "print(spacy.__version__)"
      ],
      "execution_count": 2,
      "outputs": [
        {
          "output_type": "stream",
          "name": "stdout",
          "text": [
            "3.0.3\n"
          ]
        }
      ]
    }
  ]
}